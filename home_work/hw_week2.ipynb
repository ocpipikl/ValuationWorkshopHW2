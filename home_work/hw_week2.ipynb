{
 "cells": [
  {
   "cell_type": "markdown",
   "metadata": {},
   "source": [
    "## Valuation Week 2 Practice"
   ]
  },
  {
   "cell_type": "markdown",
   "metadata": {},
   "source": [
    "#### Object:\n",
    "\n",
    "Python:\n",
    "1. Get familiar with mathmatical operations in Python\n",
    "2. Create functions to handle repeating tasks\n",
    "\n",
    "Valuation:\n",
    "1. Curve bootstrapping"
   ]
  },
  {
   "cell_type": "markdown",
   "metadata": {},
   "source": [
    "#### Background:\n",
    "\n",
    "1. Curve bootstrapping is the process to construct a yield curve from observable price of instruments\n",
    "2. Bootstrapping process starts from the short end of the curve by observing single sum money market instruments, then move foward to the further end of the curve by observing more complex instruments\n",
    "3. Additional yield node requires yield nodes calculated previously\n",
    "4. The actual bootstrapping process is very complex as to pick the suitable instruments that have relative high trading volume and transparent price; The actual bootstrapping also considers interpolations for nodes not easily observable\n",
    "5. For the purpose of the assignment, we will simply the problem\n",
    "6. We assume there is a curve with day count convention as 30/360 (30 days in a month and 360 days in a year)"
   ]
  },
  {
   "cell_type": "markdown",
   "metadata": {},
   "source": [
    "#### Starting with Money Market Instruments (all single sum instruments)\n",
    "1. Overnight Repo (1 day) is currently traded at 99.985641\n",
    "2. This means a loan of 99.985641 will return 100 next day\n",
    "3. The 1 day effective rate is thus 100/99.985641 = 0.000144\n",
    "4. The annulized rate is 0.000144 * 360 = 0.0517\n",
    "5. Therefore, the 1 day node on the yield curve is computed as 0.0517\n",
    "6. remind from hw1: the actual discount rate = [(1 + yield/360) ^ tenor]^-1 (it is 360 here instead as the curve follows 30/360 convention; also when tenor is counted in month, you should use 30*number of months)"
   ]
  },
  {
   "cell_type": "markdown",
   "metadata": {},
   "source": [
    "#### Question 1\n",
    "1. A weekly repo (7 day) is currently traded at 99.899336\n",
    "2. A monthly repo (30 day) is currently traded at 99.567635\n",
    "3. A 3 month repo (90 day) is currently traded at 98.698637\n",
    "\n",
    "Find the 7 day, 30 day, and 90 day nodes on the yield curve"
   ]
  },
  {
   "cell_type": "code",
   "execution_count": null,
   "metadata": {},
   "outputs": [],
   "source": [
    "## Type your answer here:"
   ]
  },
  {
   "cell_type": "markdown",
   "metadata": {},
   "source": [
    "#### Using Interest Rate Future for the medium term (greater than 3m but less than 1y)\n",
    "1. A 3-month IR Future expiring in 3 months is traded at 98.686302\n",
    "2. This means if you long the future, you will pay 97.40204 after 3 months, and receives 100 after another 3 months (6 months from now)\n",
    "3. Hence, the IR future implies a 3-month forward rate starting 3 months later\n",
    "4. From question 1, you have already solved for the 90 day node on the yield curve.\n",
    "5. Assume the 90-day node has a value of r, the 3 months effective dicount rate = (1+r/360)^90\n",
    "6. You also know the effective forward rate starting 3 months (90day) later and ends 6 months (180day) later = 100/97.40204\n",
    "7. Now you should be able to solve for the 180 day node on the yield curve\n",
    "8. This is why it's called bootstrapping, you are using a yield computed previously to solve for a new node with additional instrument observed"
   ]
  },
  {
   "cell_type": "markdown",
   "metadata": {},
   "source": [
    "#### Question 2\n",
    "1. A 3-month IR future expiring in 3 months is traded at 98.686302\n",
    "2. A 3-month IR future expiring in 6 momths is traded at 98.683836\n",
    "3. A 3-month IR future expiring in 9 months is traded at 98.696170\n",
    "\n",
    "Find the 180d, 270d, and 360d nodes on the yield curve"
   ]
  },
  {
   "cell_type": "code",
   "execution_count": null,
   "metadata": {},
   "outputs": [],
   "source": [
    "## Type your answer here:"
   ]
  },
  {
   "cell_type": "markdown",
   "metadata": {},
   "source": [
    "#### Using Interest Rate Swap for far end of the curve (we will stop at 2y for this practice)\n",
    "1. Now you observe a 1 year and 3 months IRS (450 day maturity) that resets every 3 months is quoted at a fixed rate of 0.052\n",
    "2. The IRS has cash payments at 90d, 180d, 270d, 360d, and 450d\n",
    "3. You already have the yields except the 450d from previous calculation\n",
    "4. You will need to use the 3-month forward rate starting at 1 year (360d) to project the floating leg payment\n",
    "5. fixed leg payment is known to be 0.052\n",
    "6. you will be able to solve for the 450d node"
   ]
  },
  {
   "cell_type": "markdown",
   "metadata": {},
   "source": [
    "#### Question 3\n",
    "1. a 1 year and 3 months IRS (450 day maturity) that resets every 3 months is quoted at a fixed rate of 0.052\n",
    "2. a 1 year and 6 months IRS (540 day maturity) that resets every 3 months is quoted at a fixed rate of 0.0518\n",
    "3. a 1 year and 9 months IRS (630 day maturity) that resets every 3 months is quoted at a fixed rate of 0.0516\n",
    "4. a 2 year IRS (720 day maturity) that resets every 3 months is quoted at a fixed rate of 0.0515\n",
    "\n",
    "Find the 450d, 540d, 630d, 720d nodes on the yield curve"
   ]
  },
  {
   "cell_type": "code",
   "execution_count": null,
   "metadata": {},
   "outputs": [],
   "source": [
    "## Type your answer here:"
   ]
  }
 ],
 "metadata": {
  "language_info": {
   "name": "python"
  }
 },
 "nbformat": 4,
 "nbformat_minor": 2
}
